{
    "cells": [
        {
            "cell_type": "markdown",
            "metadata": {
                "collapsed": true
            },
            "source": "# Comparison between Tokyo and Osaka with Data Science"
        },
        {
            "cell_type": "markdown",
            "metadata": {},
            "source": "## Introduction"
        },
        {
            "cell_type": "markdown",
            "metadata": {},
            "source": "Tokyo and Osaka are the two largest cities in Japan. You can find a lot of information from internet or books which intoroduce landmarks, restaurants, shopping streets, parks and so on. But I decided to explore the cities with different approach by using data science. What are the characteristics of Japan's two major cities? Are Tokyo and Osaka similar or not? Could data scienc find Interesting discovery?\nThe target audience of this report are anyone who is interested in Tokyo or Osaka!"
        },
        {
            "cell_type": "markdown",
            "metadata": {},
            "source": "## Data"
        },
        {
            "cell_type": "markdown",
            "metadata": {},
            "source": "Special Wards of Tokyo is a inner city of Tokyo Prefecture and has 23 districs, whereas Osaka city is a center of Osaka Prefecture and has 24 districs. I will use clustering analysis methodology for each district and it's convenient that two cities have simillar number of districs. In addition, below is basic comparison of Tokyo and Osaka, which could complement the results of data analysis (although I won't use these info in Python programming)."
        },
        {
            "cell_type": "markdown",
            "metadata": {},
            "source": "||Special Wards of Tokyo|Osaka City|\n|:-|:-|:-|\n|Population|9,659,769|2,750,812|\n|Area|627.57km2|225.21km2|\n|Population Density|15,392/km2|12,214/km2|\n|Districts|23|24|"
        },
        {
            "cell_type": "markdown",
            "metadata": {},
            "source": "I'd like to point out that population density between two cities is not much different, it's also important in terms of making a fair comparison.\nI need names of all districs and Wikipedia provides the data. There are so many informatin and data on the Wikipedia but the process for scraping is simplified thanks to Python Beautifulsoup library.\n\nhttps://en.wikipedia.org/wiki/Tokyo\n\nhttps://en.wikipedia.org/wiki/Osaka\n\nThe geographical coordinates of each district can be obtained by Python Geocoder and venues around the districs are obtained by Foursquare library. By using these data, I'll apply clustering machine learning algorithm and divide each district into several clusters."
        },
        {
            "cell_type": "code",
            "execution_count": null,
            "metadata": {},
            "outputs": [],
            "source": ""
        }
    ],
    "metadata": {
        "kernelspec": {
            "display_name": "Python 3.7",
            "language": "python",
            "name": "python3"
        },
        "language_info": {
            "codemirror_mode": {
                "name": "ipython",
                "version": 3
            },
            "file_extension": ".py",
            "mimetype": "text/x-python",
            "name": "python",
            "nbconvert_exporter": "python",
            "pygments_lexer": "ipython3",
            "version": "3.7.9"
        }
    },
    "nbformat": 4,
    "nbformat_minor": 1
}